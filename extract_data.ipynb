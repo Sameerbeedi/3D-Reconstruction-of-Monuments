{
 "cells": [
  {
   "cell_type": "code",
   "execution_count": 3,
   "metadata": {},
   "outputs": [
    {
     "name": "stdout",
     "output_type": "stream",
     "text": [
      "/usr/local/bin/python3\n"
     ]
    }
   ],
   "source": [
    "import sys\n",
    "print(sys.executable)"
   ]
  },
  {
   "cell_type": "code",
   "execution_count": 4,
   "metadata": {},
   "outputs": [
    {
     "name": "stdout",
     "output_type": "stream",
     "text": [
      "2.6.0\n",
      "False\n"
     ]
    }
   ],
   "source": [
    "import torch\n",
    "print(torch.__version__)  # coCheck PyTorch version\n",
    "print(torch.cuda.is_available())  # Should return True\n",
    "\n",
    "\n"
   ]
  },
  {
   "cell_type": "code",
   "execution_count": 20,
   "metadata": {},
   "outputs": [],
   "source": [
    "import requests\n",
    "from bs4 import BeautifulSoup\n",
    "\n",
    "def extract_text_from_url(url):\n",
    "    try:\n",
    "        response = requests.get(url, timeout=10)\n",
    "        response.raise_for_status()  # Check for HTTP errors\n",
    "        soup = BeautifulSoup(response.text, \"html.parser\")\n",
    "        \n",
    "        # Extract visible text from paragraphs and headings\n",
    "        text = \" \".join([p.get_text() for p in soup.find_all([\"p\", \"h1\", \"h2\", \"h3\", \"h4\", \"h5\", \"h6\"])])\n",
    "        return text\n",
    "    except Exception as e:\n",
    "        print(f\"Failed to fetch {url}: {e}\")\n",
    "        return None\n",
    "\n",
    "# Example: Scrape multiple URLs\n",
    "urls = [\n",
    "    \"https://en.wikipedia.org/wiki/Hampi\",\n",
    "    \"https://whc.unesco.org/en/list/241/#\",\n",
    "    \"https://openthemagazine.com/essay/the-untold-history-of-hampi/\",\n",
    "    #\"https://www.opindia.com/2018/02/the-ruins-of-hampi-a-song-of-hope-and-a-story-of-treachery-then-and-now/\",\n",
    "    \"https://en.wikipedia.org/wiki/Virupaksha_Temple,_Hampi\",\n",
    "    \"https://www.thrillophilia.com/questions/why-is-hampi-called-the-city-of-ruins\",\n",
    "    \"https://unacademy.com/content/bank-exam/study-material/general-awareness/group-of-monuments-at-hampi/#:~:text=Hampi%2C%20also%20known%20as%20the,like%20the%20lotus%20and%20corbels.\",\n",
    "    \"https://vajiramandravi.com/upsc-daily-current-affairs/prelims-pointers/key-facts-about-hampi/\",\n",
    "    \"https://www.britannica.com/place/Hampi\",\n",
    "    \"https://www.karnataka.com/hampi/about-hampi/#google_vignette\"\n",
    "]\n",
    "documents = {url: extract_text_from_url(url) for url in urls}\n",
    "\n",
    "# Remove empty results\n",
    "documents = {url: text for url, text in documents.items() if text}\n",
    "\n"
   ]
  },
  {
   "cell_type": "code",
   "execution_count": 21,
   "metadata": {},
   "outputs": [
    {
     "name": "stdout",
     "output_type": "stream",
     "text": [
      "Model loaded successfully!\n",
      "Embeddings shape: (9, 384)\n"
     ]
    }
   ],
   "source": [
    "from sentence_transformers import SentenceTransformer\n",
    "import numpy as np\n",
    "import torch\n",
    "\n",
    "# Load a pre-trained embedding model and move it to GPU\n",
    "model = SentenceTransformer(\"all-MiniLM-L6-v2\", device=\"cuda\" if torch.cuda.is_available() else \"cpu\")\n",
    "print(\"Model loaded successfully!\")\n",
    "\n",
    "# Example embeddings (ensure `documents` is defined in your code)\n",
    "embeddings = np.array([model.encode(text, device=model.device) for text in documents.values()])\n",
    "print(\"Embeddings shape:\", embeddings.shape)"
   ]
  },
  {
   "cell_type": "code",
   "execution_count": 22,
   "metadata": {},
   "outputs": [
    {
     "name": "stderr",
     "output_type": "stream",
     "text": [
      "Insert of existing embedding ID: 0\n",
      "Add of existing embedding ID: 0\n",
      "Insert of existing embedding ID: 1\n",
      "Add of existing embedding ID: 1\n",
      "Insert of existing embedding ID: 2\n",
      "Add of existing embedding ID: 2\n",
      "Insert of existing embedding ID: 3\n",
      "Add of existing embedding ID: 3\n",
      "Insert of existing embedding ID: 4\n",
      "Add of existing embedding ID: 4\n",
      "Insert of existing embedding ID: 5\n",
      "Add of existing embedding ID: 5\n",
      "Insert of existing embedding ID: 6\n",
      "Add of existing embedding ID: 6\n"
     ]
    },
    {
     "name": "stdout",
     "output_type": "stream",
     "text": [
      "Stored in ChromaDB!\n"
     ]
    }
   ],
   "source": [
    "import chromadb\n",
    "\n",
    "# Initialize ChromaDB client\n",
    "chroma_client = chromadb.PersistentClient(path=\"./chroma_db\")\n",
    "\n",
    "# Create a collection\n",
    "collection = chroma_client.get_or_create_collection(name=\"text_embeddings\")\n",
    "\n",
    "# Add data to the database\n",
    "for i, (url, text) in enumerate(documents.items()):\n",
    "    collection.add(\n",
    "        ids=[str(i)],  \n",
    "        documents=[text], \n",
    "        embeddings=[embeddings[i].tolist()]\n",
    "    )\n",
    "\n",
    "\n",
    "\n",
    "\n",
    "print(\"Stored in ChromaDB!\")\n"
   ]
  },
  {
   "cell_type": "code",
   "execution_count": 23,
   "metadata": {},
   "outputs": [
    {
     "name": "stdout",
     "output_type": "stream",
     "text": [
      "Hampi is a village located in the eastern part of Karnataka, India. It was the capital of the Vijayanagara Empire, one of the most powerful and wealthy empires in Indian history. Hampi is a UNESCO World Heritage Site and is considered one of the most important archaeological sites in the world.\n",
      "\n",
      "Hampi was the capital of the Vijayanagara Empire from 1336 to 1565, and during that time it was a major center of trade, commerce, and culture. The city was known for its stunning architecture, which was a blend of Dravidian and Islamic styles. The city was also famous for its temples, which were built to honor the Hindu gods and goddesses.\n",
      "\n",
      "The city was founded by the founder of the Vijayanagara Empire, Harihara, and his brother Bukka in the 14th century. During the reign of the Vijayanagara Empire, Hampi was the center of power and culture, and it attracted scholars, artists, and traders from all over the world.\n",
      "\n",
      "However, in 1565, the city was attacked and destroyed by the Deccan Sultanates, and the Vijayanagara Empire was weakened. The city was abandoned, and it remained in ruins for centuries.\n",
      "\n",
      "Today, Hampi is a popular tourist destination, and visitors come from all over the world to see the ruins of the city and its temples. The city is also home to many festivals and cultural events, which are held to celebrate the rich cultural heritage of the Vijayanagara Empire.\n",
      "\n",
      "Some of the most famous landmarks in Hampi include:\n",
      "\n",
      "* The Virupaksha Temple, which is one of the oldest and most important temples in the city.\n",
      "* The Vitthala Temple, which is famous for its stunning architecture and intricate carvings.\n",
      "* The Hazara Rama Temple, which is a beautiful example of Vijayanagara architecture.\n",
      "* The Royal Enclosure, which was the palace of the Vijayanagara rulers.\n",
      "* The Queen's Bath, which is a large pool that was used by the royal family for bathing.\n",
      "\n",
      "Overall, Hampi is a fascinating city that is steeped in history and culture, and it is a must-visit destination for anyone interested in ancient India and its rich heritage.\n"
     ]
    }
   ],
   "source": [
    "from langchain.vectorstores import Chroma\n",
    "from langchain.embeddings import HuggingFaceEmbeddings\n",
    "from langchain_groq import ChatGroq\n",
    "from langchain.chains import RetrievalQA\n",
    "import uuid  # For generating unique IDs\n",
    "\n",
    "# Use Hugging Face embeddings instead of OpenAI\n",
    "embedding_model = HuggingFaceEmbeddings(model_name=\"sentence-transformers/all-MiniLM-L6-v2\")\n",
    "\n",
    "# Load stored vectors\n",
    "vectorstore = Chroma(persist_directory=\"./chroma_db\", embedding_function=embedding_model)\n",
    "query_store = Chroma(persist_directory=\"./hampi_queries_db\", embedding_function=embedding_model)\n",
    "# Use Groq API key\n",
    "groq_api_key = \"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\"\n",
    "\n",
    "# Define Retrieval-Augmented Generation (RAG) pipeline using Groq\n",
    "qa = RetrievalQA.from_chain_type(\n",
    "    llm=ChatGroq(model=\"llama3-8b-8192\", groq_api_key=groq_api_key),  # Change model as needed\n",
    "    retriever=vectorstore.as_retriever()\n",
    ")\n",
    "\n",
    "def is_relevant_to_hampi(prompt):\n",
    "    keywords = [\"Hampi\", \"monument\", \"Vijayanagara\", \"temple\"]\n",
    "    return any(keyword.lower() in prompt.lower() for keyword in keywords)\n",
    "\n",
    "# # Query the database\n",
    "prompt = input(\"Enter the prompt: \")\n",
    "\n",
    "if is_relevant_to_hampi(prompt):\n",
    "    result = qa.run(prompt)\n",
    "    print(result)\n",
    "else:\n",
    "    print(\"Your query is not relevant to Hampi cultural sites.\")"
   ]
  }
 ],
 "metadata": {
  "kernelspec": {
   "display_name": "Python 3",
   "language": "python",
   "name": "python3"
  },
  "language_info": {
   "codemirror_mode": {
    "name": "ipython",
    "version": 3
   },
   "file_extension": ".py",
   "mimetype": "text/x-python",
   "name": "python",
   "nbconvert_exporter": "python",
   "pygments_lexer": "ipython3",
   "version": "3.11.5"
  }
 },
 "nbformat": 4,
 "nbformat_minor": 2
}
