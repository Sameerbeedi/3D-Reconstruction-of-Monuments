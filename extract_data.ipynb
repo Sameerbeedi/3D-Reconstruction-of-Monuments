{
 "cells": [
  {
   "cell_type": "code",
   "execution_count": 1,
   "metadata": {},
   "outputs": [
    {
     "name": "stdout",
     "output_type": "stream",
     "text": [
      "/usr/local/bin/python3\n"
     ]
    }
   ],
   "source": [
    "import sys\n",
    "print(sys.executable)"
   ]
  },
  {
   "cell_type": "code",
   "execution_count": 3,
   "metadata": {},
   "outputs": [],
   "source": [
    "import torch\n"
   ]
  },
  {
   "cell_type": "code",
   "execution_count": 4,
   "metadata": {},
   "outputs": [
    {
     "name": "stdout",
     "output_type": "stream",
     "text": [
      "{'https://en.wikipedia.org/wiki/Hampi': 'Contents Hampi \\n Hampi or Hampe (Kannada: [hɐmpe]), also referred to as the Group of Monuments at Hampi, is a UNESCO World Heritage Site located in the town of Hampi in Vijayanagara district, east-central Karnataka, India.[2] Hampi predates the Vijayanagara Empire; it is mentioned in the Ramayana and the Puranas of Hinduism as Pampa Devi Tirtha Kshetra.[3][4] Hampi continues as a religious centre, with the Virupaksha Temple, an active Adi Shankara-linked monastery and various monuments belonging to the old city.[5][6]\\n Hampi was the capital of the Vijayanagara Empire from 1336 to 1565 (as Vijayanagara), when it was abandoned.[3] It was a fortified city. Chronicles left by Persian and European travellers, particularly the Portuguese, say that Hampi was a prosperous, wealthy and grand city near the Tungabhadra River, with numerous temples, farms and trading markets. Hampi-Vijayanagara is estimated to be the world\\'s second-largest city by 1500, after Beijing, and probably India\\'s richest at that time, attracting traders from Persia and Portugal.[7][8] The Vijayanagara Empire was defeated by a coalition of Muslim sultanates; its capital was conquered, pillaged and destroyed by Muslim armies in 1565, after which Hampi remained in ruins.[3][5][9]\\n Located in Karnataka near the small modern town of Hampi with the city of Hosapete 13 kilometres (8.1 miles) away, Hampi\\'s ruins are spread over 4,100 hectares (16\\xa0sq\\xa0mi) and it has been described by UNESCO as an \"austere, grandiose site\" of more than 1,600 surviving remains of the last great Hindu kingdom in South India that includes \"forts, riverside features, royal and sacred complexes, temples, shrines, pillared halls, mandapas, memorial structures, water structures and others\".[10]\\n Etymology The name was derived from the old name of the Tungabhadra River which was Pampa, so the name Hampi is the English version of the Kannada name Hampe.[10]\\n Location Hampi is situated on the banks of the Tungabhadra River in the eastern part of central Karnataka near the state border with Andhra Pradesh. It is 140 kilometres (87\\xa0mi) southeast of the Badami and Aihole archaeological sites.[13][14]\\n The synonym Hampi—traditionally known as Pampa-kshetra, Kishkindha-kshetra or Bhaskara-kshetra—is derived from Pampa, another name of the goddess Parvati in Hindu theology. According to mythology, the maiden Parvati (who is a reincarnation of Shiva\\'s previous wife, Sati) resolves to marry the loner ascetic Shiva.[15][16] Her parents learn of her desire and discourage her, but she pursues her desire. Shiva is lost in yogic meditation, oblivious to the world; Parvati appeals to the gods for help to awaken him and gain his attention. Indra sends Kamadeva — the Hindu god of desire, erotic love, attraction, and affection—to awake Shiva from meditation. Kama reaches Shiva and shoots an arrow of desire.[15][16] Shiva opens his third eye in his forehead and burns Kama to ashes.\\n Parvati does not lose her hope or her resolve to win over Shiva; she begins to live like him and engage in the same activities—asceticism, yogin and tapasya—awakening him and attracting his interest. Shiva meets Parvati in disguised form and tries to discourage her, telling her Shiva\\'s weaknesses and personality problems.[15][16] Parvati refuses to listen and insists in her resolve. Shiva finally accepts her and they get married.[15][16] Kama was later brought back to life after the marriage of Shiva and Parvati. According to Sthala Purana, Parvati (Pampa) pursued her ascetic, yogini lifestyle on Hemakuta Hill, now a part of Hampi, to win and bring ascetic Shiva back into householder life.[17] Shiva is also called Pampapati (meaning \"husband of Pampa\").[17] The river near the Hemakuta Hill came to be known as Pampa river.[18] The Sanskrit word Pampa morphed into the Kannada word Hampa and the place Parvati pursued Shiva came to be known as Hampe or Hampi.[17][18][19]\\n The site was an early medieval era pilgrimage place known as Pampakshetra. Its fame came from the Kishkindha chapters of the Hindu epic Ramayana, where Rama and Lakshmana meet Hanuman, Sugriva and the monkey army in their search for kidnapped Sita. The Hampi area has many close resemblances to the place described in the epic. The regional tradition believes that it is that place mentioned in the Ramayana, attracting pilgrims.[20] It was brought to light by an engineer named colonel Colin Mackenzie during the 1800s.\\n Ancient to 14th century CE Emperor Ashoka\\'s Rock Edicts in Nittur and Udegolan—both in Bellary district 269-232 BCE—suggest this region was part of the Maurya Empire during the 3rd century BCE. A Brahmi inscription and a terracotta seal dating to about the 2nd century CE have been found during site excavations.[21][22] The town is mentioned in Badami Chalukya\\'s inscriptions as Pampapura, dating from between the 6th and 8th centuries.[20]\\n By the 10th century, it had become a centre of religious and educational activities during the rule of the Hindu kings Kalyana Chalukyas, whose inscriptions state that the kings made land grants to the Virupaksha temple.[20][23] Several inscriptions from the 11th to 13th centuries are about the Hampi site, with a mention of gifts to goddess Hampa-devi.[21] Between the 12th and 14th centuries, Hindu kings of the Hoysala Empire of South India built temples to Durga, Hampadevi and Shiva, according to an inscription dated about 1,199 CE. Hampi became the second royal residence; one of the Hoysala kings was known as Hampeya-Odeya or \"lord of Hampi\".[20][23] According to Burton Stein, the Hoysala-period inscriptions call Hampi by alternate names such as Virupakshapattana, Vijaya Virupakshapura in honour of the old Virupaksha (Shiva) temple there.[21]\\n 14th century and after The armies of the Delhi Sultanate, those of Alauddin Khalji and Muhammad bin Tughlaq, invaded and pillaged South India. The Hoysala Empire and its capital Dvarasamudra in southern Karnataka was plundered and destroyed in the early 14th century by the armies of Alauddin Khalji,[24][25] and again in 1326 CE by the army of Muhammad bin Tughlaq.[26][27][28]\\n The Kampili kingdom in north-central Karnataka followed the collapse of Hoysala Empire. It was a short-lived Hindu kingdom with its capital about 33 kilometres (21\\xa0mi) from Hampi.[26][29][30] The Kampili kingdom ended after an invasion by the Muslim armies of Muhammad bin Tughlaq. The Hindu women of Kampili committed jauhar (ritual mass suicide) when the Kampili soldiers faced defeat by Tughlaq\\'s army.[31][32] In 1336 CE, the Vijayanagara Empire arose from the ruins of the Kampili kingdom. It grew into one of the famed Hindu empires of South India that ruled for over 200 years.[29][33]\\n The Vijayanagara Empire built its capital around Hampi, calling it Vijayanagara. Historians propose that Harihara I and Bukka I, the founders of the empire, were commanders in the army of the Hoysala Empire stationed in the Tungabhadra region to ward off Muslim invasions from the Northern India. Some claim that they were Telugu people, who took control of the northern parts of the Hoysala Empire during its decline.[34][35][36][37] As per texts such as Vidyaranya Kalajana, Vidyaranya Vritanta, Rajakalanirnaya, Pitamahasamhita, Sivatatvaratnakara, they were treasury officers of Pratap Rudra, the King of Kakatiya Kingdom. When Muhammad Bin Tughlaq came looking for Baha-Ud-Din Gurshasp (who was taking refuge in the court of Pratap Rudra), Pratap Rudra was overthrown and Kakatiya was destroyed. During this time the two brothers Harihara I and Bukka I, with a small army came to the present site of Vijayanagara, Hampi. Vidyaranya, the 12th Jagadguru of the Śringeri Śarada Pītham took them under his protection and established them on the throne and the city was called Vidyanagara in A.D. 1336.[38]\\n They expanded the infrastructure and temples. According to Nicholas Gier and other scholars,[7] by 1500 CE Hampi-Vijayanagara was the world\\'s second-largest medieval-era city after Beijing, and probably India\\'s richest. Its wealth attracted 16th-century traders from across the Deccan area, Persia and the Portuguese colony of Goa.[8][39] The Vijayanagara rulers fostered developments in intellectual pursuits and the arts, maintained a strong military and fought many wars with sultanates to its north and east. They invested in roads, waterworks, agriculture, religious buildings and public infrastructure. This included, states UNESCO, \"forts, riverside features, royal and sacred complexes, temples, shrines, pillared halls, mandapas (halls for people to sit), memorial structures, gateways, check posts, stables, water structures, and more\".[10] The site was multi-religious and multi-ethnic; it included Hindu and Jain monuments next to each other. The buildings predominantly followed South Indian Hindu arts and architecture dating to the Aihole-Pattadakal styles, but the Hampi builders also used elements of Indian architecture in the Lotus Mahal, the public bath and the elephant stables.[10]\\n According to historical memoirs left by Portuguese and Persian traders to Hampi, the city was of metropolitan proportions; they called it \"one of the most beautiful cities\". While prosperous and in infrastructure, the Muslim-Hindu wars between Muslim Sultanates and Vijayanagara Empire continued. In 1565, at the Battle of Talikota, a coalition of Muslim sultanates entered into a war with the Vijayanagara Empire.[10] They captured and beheaded the king Aliya Rama Raya,[40][41] followed by a massive destruction of the infrastructure fabric of Hampi and the metropolitan Vijayanagara.[10][42] The city was pillaged, looted and burnt for six months after the war, then abandoned as ruins, which are now called the Group of Monuments at Hampi.[10][42][note 1]\\n Archaeological site Hampi and its nearby region remained a contested and fought-over region claimed by the local chiefs, the Hyderabad Muslim nizams, the Maratha Hindu kings, and Hyder Ali and his son Tipu Sultan of Mysore through the 18th century.[44] In 1799, Tipu Sultan was defeated and killed when the British forces and Wadiyar dynasty aligned. The region then came under British influence.[44] The ruins of Hampi were surveyed in 1800 by Scottish Colonel Colin Mackenzie, first Surveyor General of India. Mackenzie wrote that the Hampi site was abandoned and only wildlife live there. The 19th-century speculative articles by historians who followed Mackenzie blamed the 18th-century armies of Hyder Ali and the Marathas for the damage to the Hampi monuments.[44]\\n The Hampi site remained ignored until the mid-19th century, when Alexander Greenlaw visited and photographed the site in 1856.[45] He created an archive of 60 calotype photographs of temples and royal structures that were standing in 1856. These photographs were held in a private collection in the United Kingdom and were not published until 1980.[45] They are the most valuable source of the mid-19th-century state of Hampi monuments to scholars.[45]\\n The monuments at this site would have had colours rather than the sandstone tint that they appear in today.\\n A translation of the memoirs written by Abd al-Razzaq Samarqandi, a Persian envoy in the court of Devaraya II (1424–1446), published in the early 1880s described some monuments of the abandoned site. This translation, for the first time, uses Arabic terms such as \"zenana\" to describe some of the Hampi monuments.[46] Some of these terms became the names thereafter. Alexander Rea, an officer of the Archaeological Survey department of the Madras Presidency within British India, published his survey of the site in 1885.[46] Robert Sewell published his scholarly treatise A Forgotten Empire[34] in 1900, bringing Hampi to the widespread attention of scholars.[46] The growing interest led Rea and his successor Longhurst to clear and repair the Hampi group of monuments.[46]\\n The site is significant historically and archaeologically, for the Vijayanagara period and before.[47] The Archaeological Survey of India continues to conduct excavations in the area.[48]\\n Description Hampi is located in hilly terrain formed by granite boulders [49] The Hampi monuments comprising the UNESCO world heritage site are a subset of the Vijayanagara ruins. Almost all of the monuments were built between 1336 and 1570 CE during the Vijayanagara rule.[50] The site has about 1,600 monuments and covers 41.5 square kilometres (16.0\\xa0sq\\xa0mi).[10]\\n The Hampi site has been studied in three broad zones; the first has been named the \"sacred centre\" by scholars such as Burton Stein and othersl;[21] the second is referred to as the \"urban core\" or the \"royal centre\"; and the third constitutes the rest of metropolitan Vijayanagara. The sacred centre, alongside the river, contains the oldest temples with a history of pilgrimage and monuments pre-dating the Vijayanagara empire.[51] The urban core and royal centre have over sixty ruined temples beyond those in the sacred centre, but the temples in the urban core are all dated to the Vijayanagara empire. The urban core also includes public utility infrastructure such as roads, an aqueduct, water tanks, mandapa, gateways and markets, monasteries[note 2] This distinction has been assisted by some seventy-seven stone inscriptions.[51][52][53]\\n Most of the monuments are Hindu; the temples and the public infrastructure such as tanks and markets include reliefs and artwork depicting Hindu deities and themes from Hindu texts.[54] There are also six Jain temples and monuments and a Muslim mosque and tomb.[54] The architecture is built from the abundant local stone; the dominant style is Dravidian, with roots in the developments in Hindu arts and architecture in the second half of the 1st millennium in the Deccan region.[55] It also included elements of the arts that developed during the Hoysala Empire rule in the south between the 11th and 14th century such as in the pillars of Ramachandra temple and ceilings of some of the Virupaksha temple complex.[56][note 3] The architects also adopted an Indo-Islamic style in a few monuments, such as the Queen\\'s bath and Elephant stables, which UNESCO says reflects a \"highly evolved multi-religious and multi-ethnic society\".[10][57]\\n List of attractions Hindu temples and monuments Virupaksha temple and market complex The Virupaksha temple is the oldest shrine, the principal destination for pilgrims and tourists, and remains a Hindu worship site.[58] Parts of the Shiva, Pampa and Durga temples existed in the 11th-century; it was extended during the Vijayanagara era.[59] The temple is a collection of smaller temples, a regularly repainted, 50-metre (160\\xa0ft) high gopuram, a Hindu monastery dedicated to Vidyaranya of Advaita Vedanta tradition, a water tank (Manmatha), a community kitchen, other monuments and a 750 metres (2,460\\xa0ft)-long ruined stone market with a monolithic Nandi shrine on the east end.[58][60][61]\\n The temple faces eastwards, aligning the sanctums of the Shiva and Pampa Devi temples to the sunrise; a large gopuram marks its entrance. The superstructure is a pyramidal tower with pilastered storeys on each of which is artwork including erotic sculptures.[62] The gopuram leads into a rectangular court that ends in another, smaller gopuram dated to 1510 CE. To its south side is a 100-column hall with Hindu-related reliefs on all four sides of each pillar.[63] Connected to this public hall is a community kitchen, a feature found in other major Hampi temples. A channel is cut into the rock to deliver water to the kitchen and the feeding hall. The courtyard after the small gopuram has dipa-stambha (lamp pillar) and Nandi.[63][64][65]\\n The courtyard after the small gopuram leads to the main mandapa of the Shiva temple, which consists of the original square mandapa and a rectangular extension composed of two fused squares and sixteen piers built by Krishnadevaraya. The ceiling of the open hall above the mandapa is painted, showing the Shaivism legend relating to Shiva-Parvati marriage; another section shows the legend of Rama-Sita of the Vaishnavism tradition.[63] A third section depicts the legend of the love god Kama shooting an arrow at Shiva to get him interested in Parvati, and the fourth section shows the Advaita Hindu scholar Vidyaranya being carried in a procession. According to George Michell and other scholars, the details and colour hues suggest all the ceiling paintings are from a 19th-century renovation, and the themes of the original paintings are unknown.[63][66][67] The mandapa pillars have outsized yalis, mythical animal melding the features of a horse, lion and other animals with an armed warrior riding it—a characteristic Vijayanagara feature.[68]\\n The sanctum of the temple has a mukha-linga; a Shiva linga with a face embossed with brass.[69] The Virupaksha temple also has smaller shrines for two aspects of Parvati-Pampa and Bhuvaneshwari to the north of the main sanctum.[70]  Bhuvaneshwari shrine is of Chalukyan architecture and it uses granite instead of pot stone. The compound has a northern gopura, smaller than the eastern gopura, that opens to the Manmatha tank and a pathway to the river with stone reliefs related to the Ramayana.[71] To the west of this tank are shrines of Shaktism and Vaishnavism traditions, such as those for Durga and Vishnu respectively.[71][72] Some of the shrines on this pilgrim\\'s path were whitewashed in the 19th century under orders of the British India officer F.W. Robinson, who sought to restore the Virupaksha temple complex; whitewashing of this cluster of historic monuments has continued as a tradition.[71]\\n According to local tradition, the Virupaksha is the only temple that continued to be a gathering place of Hindus and frequented by pilgrims after the destruction of Hampi in 1565. The temple attracts large crowds; an annual fête with a chariot procession to mark the marriage of Virupaksha and Pampa is held in spring, as is the solemn festival of Maha Shivaratri.[62] The temple has attracted criticism from tourists for its treatment of resident elephant, Lakshmi, who lives at the back of the temple in a narrow alleyway.[73]\\n Krishna temple, market, Narasimha and linga The Krishna temple, also called Balakrishna temple, on the other side of Hemakuta hill, is about 1 kilometre (0.62 miles) south of Virupaksha temple. It is dated to 1515 CE; this part of the Hampi complex is called Krishnapura in inscriptions.[74] In front of the ruined temple is a long market street, also referred to locally as the bazaar. Between the colonnaded stone shop ruins is a broad road that allowed chariots to transport goods to and from the market, and hosted ceremonial functions and festive celebrations. To the north of this road and middle of the market is a large Pushkarani—a public utility-stepped water tank with an artistic pavilion in its centre. Next to the tank is a public hall (mandapa) for people to sit.[74]\\n The temple opens to the east; it has a gateway with reliefs of all ten avatars of Vishnu starting with Matsya at the bottom. Inside is the ruined temple for Krishna and small, ruined shrines for goddesses.[74] The temple compound is layered into mandapas, including an outer and an inner enclosure. The compound has two gopuram entrances. Inside, a 25 (5x5)-bay open mandapa leads to a 9 (3x3)-bay enclosed mandapa.[75] The original image of Balakrishna (baby Krishna) in its sanctum is now in a Chennai museum. A modern road passes in front of the eastern gopura, linking Kamalapuram to Hampi. The western gopuram has friezes of battle formation and soldiers.[74]\\n South of the Krishna temple\\'s exterior are two adjacent shrines, one containing the largest monolithic Shiva Linga and the other with the largest monolithic Yoga-Narasimha avatar of Vishnu in Hampi.[74] The 3 metres (9.8\\xa0ft) Shiva Linga stands in water in a cubical chamber and has three eyes sketched on its top. South of this is the shrine for a 6.7 metres (22\\xa0ft)-high Narasimha—the man-lion avatar of Vishnu—seated in a yoga position. The Narasimha monolith originally had goddess Lakshmi with him, but it shows signs of extensive damage and a carbon-stained floor—evidence of attempts to burn the shrine down. The statue has been cleaned and parts of the shrine have been restored.[74]\\n \\n Achyutaraya temple and market complex The Achyutaraya temple, also called the Tiruvengalanatha temple, is about 1 kilometre (0.62 miles) east of Virupaksha temple and a part of its sacred centre is close to the Tungabhadra River. It is referred to be in Achyutapura in inscriptions and is dated to 1534 CE. It is one of the four largest complexes in Hampi.[76] The temple is unusual because it faces north. It is dedicated to Vishnu.[77] In Vijayanagara times, the temple was approached from the river, first past a ceremonial tank then along the market street with a broad road. The temple had an outer gopuram leading into a courtyard with a 100-column hall and an inner gopuram leading to the Vishnu temple.[77][78] On each side of each pillar in the 100-column hall are reliefs of avatars of Vishnu; other deities such as Shiva, Surya, Durga; scenes of daily life—rishi, amorous couples, jokers; people in yoga asanas; people in namaste poses; and Vijayanagara emblems.[79][80]\\n The temple gateway shows the Vijayanagara dynastic emblems; a boar from Varaha, a sword, the sun and the moon. The temple and the market street are ruined but their layout suggests it was a major market with streets provided for chariot traffic.[81][82]\\n Vitthala temple and market complex The Vitthala temple and market complex is over 3 kilometres (1.9 miles) north-east of the Virupaksha temple near the banks of the Tungabhadra River. It is an artistically sophisticated Hindu temple in Hampi, and is part of the sacred centre of Vijayanagara. It is unclear when the temple complex was built, and who built it; most scholars date it to a period of construction in the early-to-mid-16th century.[83] Some of the books mention that its construction began during the time of Devaraya II and continued during the reign of Krishnadevaraya, Achuytaraya, and probably Sadasivaraya and it stopped due to the destruction of the city in 1565.[38] The inscriptions include male and female names, suggesting that the complex was built by multiple sponsors. The temple was dedicated to Vitthala, a form of Krishna also called Vithoba.[83] The temple opens to the east, has a square plan and features an entrance gopuram with two side gopurams. The main temple stands in the middle of a paved courtyard and several subsidiary shrines, all aligned to the east.[83] The temple is a unified structure in a courtyard measuring 500 by 300 feet which is surrounded by a triple row of pillars. It is a low structure of one storey with an average height of 25 height.  The temple has three distinct compartments: a garbhagriha, an ardhamandapa and a mahamandapa (or sabha mandapa).[38]\\n The Vitthala temple has a Garuda shrine in the form of a stone chariot in the courtyard; it is an often-pictured symbol of Hampi. Above the chariot is a tower, which was removed during 1940s, as per historian Dr.S.Shettar.[84] In the front of the stone chariot is a large, square, open-pillared, axial sabha mandapa, or community hall.[83] The mandapa has four sections, two of which are aligned with the temple sanctum. The mandapa has 56 carved stone beams of different diameters, shape, length and surface finish that produces musical sounds when struck; according to local traditional belief, this hall was used for public celebrations of music and dancing.[85][86] It is classified as Karakkoil, a temple fashioned after temple chariots which are taken in procession around the temple during festivals.[87]\\n The mandapa links to an enclosed pradakshina patha for walking around the sanctum. Around this axial mandapa are (clockwise from east); the Garuda shrine, the Kalyana mandapa (wedding ceremonies), the 100-columned mandapa, the Amman shrine and the Utsav mandapa (festival hall). The walled enclosure covers about 1.3 hectares (3.2 acres) with colonnaded verandahs lining the compound walls. In the south-east corner is a kitchen with a roof window (clerestory).[83][52][88]\\n Outside the temple compound, to its east-south-east, is a colonnaded market street almost one kilometre (0.62 miles) long; all of which is now in ruins. To the north is another market and a south-facing shrine with reliefs of Ramayana scenes, Mahabharata scenes and of Vaishnava saints. The north street ended in a temple honouring the Hindu philosopher Ramanuja.[83][64] The region around the Vitthala temple was called Vitthalapura. It hosted a Vaishnava matha (monastery), designed as a pilgrimage centre centred around the Alvar tradition. It was also a centre for craft production according to inscriptions found.[52][64][88]\\n Hemakuta hill monuments The Hemakuta hill lies between the Virupaksha temple complex to the north and the Krishna temple to the south. It is a collection of modestly sized monuments that are preserved examples of pre-Vijayanagara and early-Vijayanagara temples and construction. The site has several important inscriptions, is easily accessible and provides views of the some parts of Hampi and the fertile, agricultural valley that separates the sacred centre from the urban core with its royal centre.[89][90]\\n The hill has more than thirty small-to-moderate-sized temples, together with water cisterns, gateways, and secular pavilions.[90] The latest examples are dated to the early 14th century.[90][91] Some of the structures are differently-sized prototypes of temples or mandapas, assembled from blocks of stones. Others are completed monuments of different designs, such as the Phamsana style.[92] Two temple groups in this style look similar; each has a triple vimana consisting of square sanctums with each set connected to its own shared square mandapa.[91] The towers (shikaras) on these are pyramidal granite structures consisting of eleven stacked, shrinking squares and a top in the Deccan-style square kalasha finial.[91] Both sets are Shiva temples with triple linga; early sources misidentified these as Jain temples because of their simple exterior and interior walls.\\n One of these groups has a historically important inscription that records that Kampila built the monument in the early 14th century. This inscription links Hampi with the Kampili kingdom and suggests an association of the Kampili history with that of Vijayanagara Empire that followed it.[91] The style of temples on the Hemakuta hill suggest it may have been a study centre for experimenting with different types of Hindu temples. The styles present include those of the Chalukya period, the Rashtrakuta period and later periods. It may also have been the template for the original Virupaksha temple, which was later greatly expanded with gopuram, mandala and other additions. A similar monument dedicated to Narasimha, the man-lion avatar of Vishnu, is located east of Hampi; an inscription near it states that it was operating in 1379 CE.[91][90]\\n The Hemakuta hill also has monuments with two monolithic Ganesha; the Kadalekalu Ganesha and the Sasivekalu Ganesha.[93] The Kadalekalu Ganesha, named after Ganesha\\'s gram-shaped belly, is in the middle of Hampi\\'s sacred centre on the east side of the hill near Matanga.[94] A colonnaded, open mandapa leads to the sanctum, which houses a monolithic image of Ganesha more than 4.5 metres (15\\xa0ft) high, which was carved in-situ from extant rock. Ganesha\\'s tusk and other parts have been damaged, but the left hand—which holds a rice cake treat with his trunk reaching out for it—has survived.[89]\\n The Sasivekalu Ganesha, named after Ganesha\\'s mustard seed-shaped belly, is near the Krishna temple south-west of the Kadalekalu Ganesha. It is a 2.4 metres (7.9\\xa0ft)-high monolith that was also carved in-situ from extant rock. The Sasivekalu Ganesha is carved with his mother Parvati, in whose lap he sits. She is only visible from the back of the statue. The monument is housed inside an open-pillared mandapa; the left hand and tusk have been damaged.[93][95]\\n Hazara Rama temple The Hazara Rama temple, referred to as the Ramachandra temple in inscriptions, occupied the western part of the urban core in the royal centre section of Hampi. This temple was dedicated to Rama of the Ramayana fame, and an avatar of Vishnu. It was the ceremonial temple for the royal family. The temple is dated to the early 15th century and is attributed to Devaraya I.[96] The temple\\'s outer walls portray the Hindu Mahanavami (Dasara) and the spring Holi festival procession and celebrations in parallel bands of artwork.[96] The lowest band shows marching elephants, above it are horses led by horsemen, then soldiers celebrated by the public, then dancers and musicians, with a top layer depicting a procession of the general public. The depiction mirrors the description of festivals and processions in surviving memoirs of Persians and Portuguese who visited the Vijayanagara capital.[97][98]\\n The inner walls of the temple has friezes containing extensive narration of the Hindu epic Ramayana.[99][96] The temple has an entrance mandapa and a yajna ceremony hall, whose ceiling is designed to ventilate fumes and smoke through the roof. Inside the main mandapa are four intricately carved pillars in the Hoysala style; these carving include depictions of Rama, Lakshmana, and Sita of Vaishnavism, Durga as Mahishasuramardini of Shaktism and Shiva-Parvati of Shaivism.[96] Images are missing from the square sanctum. The temple has a smaller shrine with friezes depicting the legends of Vishnu avatars.[99]\\n This ruined temple complex is known for its thousands of carvings and inscriptions, its elaborate frescoes depicting Hindu theosophy and its sprawling courtyard laid with gardens.[100]\\n Kodandarama temple and riverside monuments The Kodandarama temple complex lies near the Tungabhadra River, and is north of Achyutaraya temple. The temple overlooks Chakratirtha, where the Tungabhadra turns northwards towards the Himalayas. The river banks, considered holy, accommodate a Vijayanagara-era ghat and mandapa facilities for bathing. In front of the temple is a dipa stambha (lighting pillar) under a Pipal tree, and inside is a sanctum dedicated to Rama, Sita, Lakshmana and Hanuman.[101] Nearby, and continuing until Kotitirtha to its north, are a number of smaller shrines, dedicated to Vitthala, Anjaneya, Shiva and other deities. On the rock face are reliefs of Anantashayana Vishnu (reclining Vishnu creating the cosmic cycle, Ranganatha), friezes narrating the legends of Narasimha and Prahlada, and the twenty-four avatars of Vishnu according to the Puranic tradition of Vaishnavism. Near the river is a rock carved with Shaivism\\'s 1,008 lingas.[101]\\n Pattabhirama temple complex The Pattabhirama temple complex is in the southern suburban centre outside the sacred centre and the urban core, about 500 metres (550\\xa0yd) from the ASI Hampi museum.[102] It was at the nucleus of economic and cultural activity of this suburb, now located north-east of Kamalapura. The complex, also known as Varadevi Ammana Pattana, was likely built in the early 16th century and dedicated to Rama (Vishnu avatar).[102] The complex has a main temple, a colonnaded courtyard inside an enclosure and a 64 (8x8 square)-pillared and roofed mandapa in front of the sanctum. The complex and the sanctum face east; the normal entrance was through the eastern gopura.[102][103] The ruins suggest the gopuram had six tiers. The Pattabhirama temple included a 100-pillared hall—likely a feeding hall—attached to the southern wall of the enclosed compound. The pillars have reliefs depicting Hindu themes which include gods, goddesses, a scene from a Hindu text, yoga and namaste.[104]\\n Mahanavami platform, public square complex The Mahanavami platform, also called the \"Great Platform\", \"Audience Hall\", \"Dasara\" or \"Mahanavami Dibba\" monument, is within a 7.5-hectare (19-acre) enclosure at one of the highest points inside the royal centre (urban core). It has ceremonial structures.[105][106] It is mentioned in the memoirs of foreigners who visited Vijayanagara, some calling it the \"House of Victory\".[107] The largest monument in this complex has three ascending square stages leading to a large, square platform that likely had a wooden mandapa above it. This was burnt down during the destruction of Hampi.[108]\\n The two lower levels of the platform is made of granite. It has reliefs—possibly a catalogue of 14th-century royal activities—and lines of marching animals including elephants, horses and camels.[105][109] Reliefs on the south side show musicians and dancers, including female stick-dancers. The third level reliefs show a battle procession, couples and scenes of common citizens celebrating Holi (Vasantotsava) by throwing water at each other.[108][106][110] Near the great platform is an audience hall, which also probably had a wooden pavilion, evidenced by 100 stone stubs; this too was burnt down.[105]\\n South of the platform is an aqueduct leading water to large, symmetrical, stepped tank made of granite that was excavated by archaeologists in the 1980s. The complex has another large water pool, possibly for water sports and a garden and various mandapa. there is a ruined temple-like monument near the step tank.[108][53]\\n Water infrastructure The Square Water Pavilion, also called the Queen\\'s Bath, is in the south-east of the royal centre. It has a pavilion, a water basin and a method of moving fresh water to it and taking away wash water and overflows. The basin is enclosed within an ornate, pillared, vaulted bay.[111] Nearby are ruins of the aqueduct.[111] The modern name of this building, the Queen\\'s bath, is probably a misnomer because this was a public bath for men and travellers.[111][112] The building\\'s interior arches show influence from Indo-Islamic architecture, reflecting an era in which Hindu and Muslim arts influenced each other in India.[113]\\n The Vijayanagara empire built extensive water infrastructures,[112][114] some examples include - the Manmatha tank near Virupaksha temple, which is dated to about the 9th century, predates the Vijayanagara. According to an inscription found there, the Manmatha tank was upgraded and a Durga shrine added in 1199 CE.[115] The inclusion of artwork at the tank, such as a warrior fighting a lion, is dated to the 13th century, when Hoysalas frequented Hampi.[115]\\n The Hampi monuments include aqueducts to carry water to tanks and other parts of the city, as well as drains and channels to remove water overflow.[112] Excavations in the 1980s near the Mahanavami platform in the urban core revealed a large, square-stepped tank that was fed by an aqueduct.[116] The tanks were public utilities; some were perhaps used for royal ceremonies.[117]\\n Archaeological excavations in 1990 revealed twenty-three wells and cisterns in the Hampi-Vijayanagara metropolis. Of these, thirteen were found outside the city walls in the suburbs, and ten inside. Of these were twelve at roadsides, eight near temples, ten in residential areas and two were used for irrigation within the urban core. More water structures were found in Daroji valley for agriculture. According to archaeologists Kathleen Morrison and Carla Sinopoli, the Hampi water infrastructure was for the use of travellers, rituals, domestic use and irrigation.[118]\\n Fountains and community kitchen Several major temples in Hampi have an embedded kitchen and 100-or-more-pillared feeding halls.[64][65] Hampi also had a dedicated public Bhojana shala (house of food) where numerous thali (dish) were carved in series in a rock on both sides of a water channel. One example is found near an octagonal fountain in the south of the royal centre;[119] according to epigraphical sources, this Hampi bhojan shala was a utada kaluve or \"canal connected with eating\".[120]\\n Elephant stables and enclosure In the east of the royal centre lies the Gajashala, or elephant stables, which consist of eleven square chambers aligned north–south. The openings to the stables are arched; above ten chambers are alternating fluted and plain domes. In the middle of the stables are stairs to reach the roof.[121][122]\\n The enclosure is close to the elephant stables; it was thus named in a Persian memoir whose 19th-century translation was an early introduction to Hampi ruins for many.[46] [123] The enclosure contains the Lotus Mahal which is a two-storeyed pavilion in the royal centre.[124] The Lotus Mahal combines a symmetrical, square, Hindu mandala design with lobed arches, vaults, and domes of the Indo-Islamic style. Its basement and pyramidal towers are based on Hindu temple architecture.[124] Like almost all of the structures in Hampi\\'s royal centre, this monument has no inscriptions nor epigraphs mentioning it and therefore dating it and establishing its function with evidence has been difficult. The Lotus Mahal and other structures in the Hampi urban core, however, were not built with Muslim patronage, unlike the tombs in the various Muslim quarters of the city. These buildings reflect the assimilative approach of the Vijayanagara Hindu rulers. Lotus Mahal looks like a syncretic, congested space and its purpose is unclear. Speculations include it being a council hall.[124][125]\\n Other Hindu temples and monuments In the sacred centre near the southern banks of the Tungabhadra River and close to the Vitthala temple complex, are gateways and a monument now called the King\\'s Balance.[126][127] The latter is similar to those found at the entrances of South Indian Hindu temples for the tula-purush-dāna or thulabharam ceremonies in which a person gives a gift by weight equal to, or greater than, their body weight.[126][127][128]\\n The Vijayanagara rulers built forts, fortified gateways and watchtowers after their dynasty was founded from the ruins of war and for security from repeated raids and invasion. Hindu-style corbelled arches are the common gateways and watchtowers in Hampi.[note 4] One such gateway is located south-east of Ganagitti Jain temple;[129] it incorporate a central barbican wall designed to entrap and confuse a stranger aiming for a surprise, while frequent visitors knew the three changes of direction before the gateway. These functional Hindu monuments are identifiable by a legendary Hindu character incorporated into them, such as of Bhima of the Mahabharata\\'s Pandava fame. Another such gate is found on the north-east road to Talarighat Hindu monument and the Vitthala temple.[129][130]\\n The Hampi site has over 1,600 surviving ruins—mostly Hindu—spread over a wide area.[10] Other significant monuments include a temple near the octagonal bath for Saraswati, a Hindu goddess of knowledge and music; a temple in the suburbs for Ananthasayana Vishnu; an Uddana Virbhadra temple for Shiva and Vishnu; a shrine for Kali, the fierce form of Durga unusually shown holding a ball of rice and a ladle (Annapurna);[131] an underground temple in the royal centre; a Sugriva cave temple;[132] the Matanga hill monuments; the Purandaradasa temple dedicated to the scholar-musician famed for the Carnatic music tradition; the Chandrashekhara temple for Shiva near the Queen\\'s bath monument; and the Malyavanta hill dedicated to Rama-Sita-Lakshmana and Shiva. The Malyavanta hill features several shrines including the Raghunatha temple and a row of Shiva lingas carved in stone.[133]\\n Jain monuments Reliefs of Jain temples at Hampi include Hemkut Jain temples, Ratnantraykut, Parsvanath Charan and Ganagitti Jain temples. Most of the idols are now missing from these temples, which were built in the 14th century.[134]\\n Ganagitti temple complex The Ganigitti Jain temple is near Bhima\\'s gate in the south-east of the urban core section of Hampi. In front of it is a monolithic lamp pillar.[129] The temple faced north; it is dated to 1385 CE, during the rule of Hindu king Harihara II, based on an inscription in the temple.[129] It is dedicated to Tirthankara Kunthunatha and has plain walls, a pillared mandapa and a square sanctum from which the Jina\\'s statue is missing. There are capitals on the pillars and the doorways have decoration. Over the sanctum is a Dravidian-style, narrowing square, pyramidal tower. Other monuments in the temple compound are in ruins.[129]\\n Other Jain temples and monuments A cluster of Jain 150 meters (160\\xa0yd) east of the elephant stables. One north-facing temple is dedicated to Parshvanatha Tirthankara. It was built by King Devaraya II and dates to 1426 CE, per an inscription in the temple. In front of the temple are two ruined temples; one of Shiva and the other dedicated to Mahavira.[135] Jain Tirthankaras are also included in reliefs inside Hindu temples.[67][136][137]\\n Muslim monuments The Hampi site includes a Muslim quarter with Islamic tombs, two mosques and a cemetery. These are neither in the sacred centre nor in the royal centre of the Hampi site. Some Muslim monuments are a part of the urban core while others are in the suburbs where most Vijayanagara residents lived. These are in the north-east valley of the urban core, where settlements of Hindus and Jains are also found. Much of this region is deeply silted and the soil conceals abandoned temples, roads, water tanks, gateways and residential quarters.[138][139]\\n Ahmad Khan mosque and tomb There is a Muslim monument in the south-east of the urban core on the road from Kamalapura to Anegondi, before Turuttu canal in the irrigated valley. This monument was first built in 1439 by Ahmad Khan, a Muslim officer in the army of Hindu king Devaraya II. The monuments include a mosque, an octagonal well, and a tomb. The mosque lacks a dome and is a pillared pavilion, while the tomb has a dome and arches.[139] Other Muslim monuments and a graveyard were added later near the Ahmad Khan\\'s legacy.[139]\\n Reception In the memoirs of Niccolò de\\' Conti, an Italian merchant and traveller who visited Hampi about 1420, the city had an estimated circumference of 60 miles (97\\xa0km) and it enclosed agriculture and settlements in its fortifications. In 1442, Abdul Razzaq, who visited from Persia, described it as a city with seven layers of forts, with outer layers for agriculture, crafts and residence, the inner third to seventh layers very crowded with shops and bazaars (markets).[140]\\n In 1520, Domingo Paes, a Portuguese traveller, visited Vijayanagara as a part of trade contingent from Portuguese Goa. He wrote his memoir as Chronica dos reis de Bisnaga, in which he stated Vijayanagara was \"as large as Rome, and very beautiful to the sight\\xa0... the best provided city in the world\".[141][142] According to Paes, \"there are many groves within it, in the gardens of the houses, many conduits of water which flow into the midst of it, and in places there are lakes\\xa0...\".[142]\\n Cesare Federici, an Italian merchant and traveller, visited a few decades after the 1565 defeat and collapse of the Vijayanagara Empire. According to Sinopoli, Johansen, and Morrison, Federici described it as a very different city. He wrote, \"the citie of Bezeneger (Hampi-Vijayanagara) is not altogether destroyed, yet the houses stand still, but emptie, and there is dwelling in them nothing, as is reported, but Tygres and other wild beasts\".[143]\\n The historian Will Durant, in his Our Oriental Heritage: The Story of Civilization recites the story of Vijayanagara and calls its conquest and destruction a discouraging tale. He writes, \"its evident moral is that civilization is a precarious thing, whose delicate complex of order and liberty, culture and peace may at any time be overthrown by war and ferocious violence.\"[144][note 5]\\n See also Notes References Bibliography External links', 'https://whc.unesco.org/en/list/241/#': \"The World Heritage Centre is at the forefront of the international community’s efforts to protect and preserve. World Heritage partnerships for conservation Ensuring that World Heritage sites sustain their outstanding universal value is an increasingly challenging mission in today’s complex world, where sites are vulnerable to the effects of uncontrolled urban development, unsustainable tourism practices, neglect, natural calamities, pollution, political instability, and conflict. Our Partners Donate Take advantage of the search to browse through the World Heritage Centre information. Share on social media UNESCO social media Group of Monuments at Hampi Group of Monuments at Hampi The austere, grandiose site of Hampi was the last capital of the last great Hindu Kingdom of Vijayanagar. Its fabulously rich princes built Dravidian temples and palaces which won the admiration of travellers between the 14th and 16th centuries. Conquered by the Deccan Muslim confederacy in 1565, the city was pillaged over a period of six months before being abandoned. Description is available under license CC-BY-SA IGO 3.0\\n Ensemble monumental de Hampi Hampi est le site, austère et grandiose, de la dernière capitale du dernier grand royaume hindou de Vijayanagar, dont les princes extrêmement riches firent édifier des temples dravidiens et des palais qui firent l'admiration des voyageurs entre le XIVe et le XVIe siècle. Conquise par la Confédération islamique du Deccan en 1565, la ville fut livrée au pillage pendant six mois, puis abandonnée. Description is available under license CC-BY-SA IGO 3.0\\n مجمّع النصب في هامبي هامبي هو الموقع المُهيب والفخم لآخر عاصمة للمملكة الهندوسية الكبيرة الأخيرة فيجايانجار التي شيّد فيها الأمراء الأثرياء معابد دراويدية وقصوراً كانت محطّ إعجاب المسافرين بين القرن الرابع عشر والقرن السادس عشر. وبعدما هاجمها الاتحاد الإسلامي من دِكان عام 1565 تعرضت المدينة للسلب والنهب لفترة ستة أشهر ثم تركت. \\r\\n\\t\\t\\t\\t\\t\\t\\t\\t\\tsource: UNESCO/CPE\\r\\n\\t\\t\\t\\t\\t\\t\\t\\t\\tDescription is available under license CC-BY-SA IGO 3.0\\n 汉皮古迹群 宏伟庄严的汉皮遗址是印度最后一个王朝查耶那加尔帝国最后的首都。14世纪至16世纪期间，富可敌国的王子们建造许多德拉威庙宇和富丽堂皇的宫殿，它们至今仍吸引着世界各地的旅行者。1565年亨比被穆斯林攻占，抢掠达6个月之久，最终城市被洗劫一空，毁于一旦。 \\r\\n\\t\\t\\t\\t\\t\\t\\t\\t\\tsource: UNESCO/CPE\\r\\n\\t\\t\\t\\t\\t\\t\\t\\t\\tDescription is available under license CC-BY-SA IGO 3.0\\n Памятники Хампи  Величественный комплекс Хампи был последней столицей последнего великого индуистского государства – Виджаянагар. Его сказочно богатые правители воздвигли дравидские храмы и дворцы, которые вызывали восхищение путешественников в XIV-XVI вв. Завоеванный в 1565 г. союзом мусульман Декана, город был отдан на разграбление в течение шести месяцев, а затем заброшен. \\r\\n\\t\\t\\t\\t\\t\\t\\t\\t\\tsource: UNESCO/CPE\\r\\n\\t\\t\\t\\t\\t\\t\\t\\t\\tDescription is available under license CC-BY-SA IGO 3.0\\n Conjunto monumental de Hampi Sitio austero y grandioso a la vez, Hampi fue el lugar donde estaba emplazada la capital del último gran reino hindú gobernado por la dinastía de los Vijayanagar. Estos soberanos, fabulosamente ricos, hicieron edificar templos dravidianos y palacios que causaron la admiración de los viajeros acudidos de todas partes entre los siglos XIV y XVI. Conquistada por la Confederación Islámica del Decán en 1565, la ciudad fue entregada al saqueo durante seis meses y luego fue abandonada. \\r\\n\\t\\t\\t\\t\\t\\t\\t\\t\\tsource: UNESCO/CPE\\r\\n\\t\\t\\t\\t\\t\\t\\t\\t\\tDescription is available under license CC-BY-SA IGO 3.0\\n ハンピの建造物群 source: NFUAJ\\n Monumentengroep van Hampi Source: unesco.nl\\n हम्पी में स्मारकों का समूह हम्पी का सादगीपूर्व भव्य स्थल विजयनगर के अंतिम महान हिंदू साम्राज्य की अंतिम राजधानी थी। इसके अत्\\u200dयंत समृद्ध राजकुमारों ने द्रविड़ मंदिरों और महलों का निर्माण किया, जिनको\\xa0 14वीं और 16वीं शताब्दी के बीच यात्रियों द्वारा अत्\\u200dयंत प्रशंसा मिली। 1565 में डेक्कन मुस्लिम संघ द्वारा इस पर कब्\\u200dजा कर लिया गया, उन्\\u200dहोंने शहर छोड़ने से पहले छह महीने तक वहां लूटपाट की। Source: India\\n Outstanding Universal Value Brief synthesis The austere and grandiose site of Hampi comprise mainly the remnants of the Capital City of Vijayanagara Empire (14th-16th Cent CE), the last great Hindu Kingdom. The property encompasses an area of 4187, 24 hectares, located in the Tungabhadra basin in Central Karnataka, Bellary District. Hampi’s spectacular setting is dominated by river Tungabhadra, craggy hill ranges and open plains, with widespread physical remains. The sophistication of the varied urban, royal and sacred systems is evident from the more than 1600 surviving remains that include forts, riverside features, royal and sacred complexes, temples, shrines, pillared halls, Mandapas, memorial structures, gateways, defence check posts, stables, water structures, etc. Among these, the Krishna temple complex, Narasimha, Ganesa, Hemakuta group of temples, Achyutaraya temple complex, Vitthala temple complex, Pattabhirama temple complex, Lotus Mahal complex, can be highlighted. Suburban townships (puras) surrounded the large Dravidian temple complexes containing subsidiary shrines, bazaars, residential areas and tanks applying the unique hydraulic technologies and skilfully and harmoniously integrating the town and defence architecture with surrounding landscape. The remains unearthed in the site delineate both the extent of the economic prosperity and political status that once existed indicating a highly developed society. Dravidian architecture flourished under the Vijayanagara Empire and its ultimate form is characterised by their massive dimensions, cloistered enclosures, and lofty towers over the entrances encased by decorated pillars. The Vitthla temple is the most exquisitely ornate structure on the site and represents the culmination of Vijayanagara temple architecture. It is a fully developed temple with associated buildings like Kalyana Mandapa and Utsava Mandapa within a cloistered enclosure pierced with three entrance Gopurams. In addition to the typical spaces present in contemporary temples, it boasts of a Garuda\\xa0shrine fashioned as a granite ratha and a grand bazaar street. This complex also has a large Pushkarani (stepped tank) with a Vasantotsava mandapa (ceremonial pavilion at the centre), wells and a network of water channels. Another unique feature of temples at Hampi is the wide Chariot streets flanked by the rows of Pillared Mandapas, introduced when chariot festivals became an integral part of the rituals. The stone chariot in front of the temple is also testimony to its religious ritual. Most of the structures at Hampi are constructed from local granite, burnt bricks and lime mortar. The stone masonry and lantern roofed post and lintel system were the most favoured construction technique. The massive fortification walls have irregular cut size stones with paper joints by filling the core with rubble masonry without any binding material. The gopuras over the entrances and the sanctum proper have been constructed with stone and brick. The roofs have been laid with the heavy thick granite slabs covered with a water proof course of brick jelly and lime mortar. Vijayanagara architecture is also known for its adoption of elements of Indo Islamic Architecture in secular buildings like the Queen’s Bath and the Elephant Stables, representing a highly evolved multi-religious and multi-ethnic society.Building activity in Hampi continued over a period of 200 years reflecting the evolution in the religious and political scenario as well as the advancements in art and architecture. The city rose to metropolitan proportions and is immortalized in the words of many foreign travellers as one of the most beautiful cities. The Battle of Talikota (1565 CE) led to a massive destruction of its physical fabric. Dravidian architecture survives in the rest of Southern India spread through the patronage of the Vijayanagara rulers. The Raya Gopura, introduced first in the temples attributed to Raja Krishna Deva Raya, is a landmark all over South India. Criterion (i): \\xa0\\xa0\\xa0\\xa0\\xa0\\xa0\\xa0 The remarkable integration between the planned and defended city of Hampi with its exemplary temple architecture and its spectacular natural setting\\xa0 represent a unique artistic creation. Criterion (iii): The city bears exceptional testimony to the vanished civilization of the kingdom of Vijayanagara, which reached its apogee under the reign of Krishna Deva Raya (1509-1530). Criterion (iv): This capital offers an outstanding example of a type of structure which illustrates a significant historical situation: that of the destruction of the Vijayanagara kingdom at the Battle of Talikota (1565 CE) which left behind an ensemble of living temples, magnificent archaeological remains in the form of elaborate sacred, royal, civil and military structures as well as traces of its rich lifestyle, all integrated within its natural setting. Integrity The area of the property is adequate to accommodate, represent and protect all the key attributes of the site. The majority of the monuments are in good state of preservation and conservation. The highly developed and extremely sophisticated settlement articulates architectural manifestations, agricultural activities, irrigation systems, formal and informal paths, boulders and rocks, religious and social expressions. However, maintaining these conditions of integrity poses significant challenges derived mainly from pressures associated with \\xa0development, planned and unplanned, which pose a threat to the landscape of the property, as well as encroachments and changes in land use, especially increased agricultural activity of commercial crops that might threaten the physical stability of the diverse monuments. Particular attention will need to be placed on regulating residential constructions and potential development to accommodate visitor use, as well as infrastructure to address communication needs, particular by pass roads. Addressing also the visual impact of modern electrification fixtures, telephone poles and other elements, will also be important to maintain the integrity of the property. Authenticity The attributes like strategic location and abundance of natural resources, rendering this spectacular landscape befit for a Capital City have been maintained in the property. The authenticity of the site has been maintained in terms of location and setting, as the original setting comprising of river Tungabhadra and boulders is fully retained. In terms of form and function, the integration of the geographic setting with man-made features in the design and functional layout of the entire capital can still be discerned and the form of the original city planning with suburban pattern is evident. The largely untouched archaeological elements provide ample evidences of authentic materials and construction and interventions have maintained qualities when undertaken. The stages of evolution and perfection of the Vijayanagara Architecture are evident in the monumental structures As for traditions and techniques; the physical remains are a befitting tribute to the ingenuity of the builders in shaping the metropolis of this grand scale by utilizing locally available material, traditional knowledge system and skilled craftsmanship. Today there is a continuity of several religious rituals, associations, traditional skills and occupations within the society that have been maintained. However, the destruction by the battle of Talikota and the passage of time have led to some of the original functions and traditions becoming obsolete and altered, while several are in continuum forming an integral part of the site like festivals, temple rituals, pilgrimage, agriculture, etc. The Virupaksha temple is in constant worship, this has led to many additions and alterations to different parts of temple complex. Similarly, the haphazard growth of modern shops, restaurants in and around it and its bazaar that caters to religious and social tourists has impacted adversely on its setting as has the asphalting of the roads over the ancient pathway in front of the Virupaksha temple. The tensions between modern uses and protecting the fabric and setting of the ancient remains need to be managed with the utmost sensitivity. Protection and management requirements Different legal instruments exist for the protection of the property, including the Ancient Monuments and Archaeological Remains and Sites Act, 1958 (AMASR Act, 1958), AMASR (Amendment and Validation) Act, 2010 and Rules 1959 of the Government of India and Karnataka Ancient and Historical Monuments and Archaeological Sites and Remains Act, 1961. Recently, the Draft (Bill) of Hampi World Heritage Area Management Authority Act, 2001 has been framed to look after the protection and management of the 4187,24 hectares of the World Heritage Area. There are different levels of authorities and agencies that have mandates that influence the protection and management of the property under a diversity of Acts. The Government of India, the Archaeological Survey of India (ASI) and the Government of Karnataka are responsible for the protection and management of fifty-six Nationally Protected Monuments and the rest of the area covered by 46.8 sq. kms respectively under their respective legal provisions. The ASI has established site office at Kamalapuram to manage the Centrally Protected Monuments. It is also functioning as World Heritage Site Co-ordinator at the local level and district level interacting with various local self Government and district authorities and the Hampi Development Authority for preserving the values of the property. The regional level office at Bangalore, which co-ordinates with Directorate, ASI, New Delhi and concerned agencies of the Government of Karnataka at higher level, supports the ASI site office at Kamalapur. Office of the Director General, ASI, New Delhi office is a national apex body coordinating with UNESCO on one hand and the regional offices under whose jurisdiction the World Heritage Property falls and also the highest authorities of the Government of Karnataka on the other. The DAM has its office at Mysore and local office at Hampi. The HUDA, HWHAMA, Town Planning and other district level authorities are located in Hospet and Bellary, which is also the Head Quarters of the Deputy Commissioner. The management of other aspects of the property such as the cultural landscape, living traditions, rest with State, Town, Municipal and Village level agencies. The constitution of a single heritage authority, Hampi World Heritage Area Management Authority (HWHAMA) ensure the effectiveness of the management system and coordination of works from different agencies while allowing local self Government authorities to continue to exercise the powers as enlisted in the respective Acts. The final powers for approving and regulating any developmental activities in the property rest with the HWHAMA. The establishment of the Integrated Information Management Centre and initiation of the Joint Heritage Management Program are major steps towards effective protection and management within the Indian legal frame work. The present perspective acknowledges its diverse attributes and complex cultural systems. The management framework visualizes the site in its entirety where heritage management is the first priority followed by human resource development, which elevates the economic status. The implementation of the Integrated Management Plan aims at value-based management and ensures safeguarding of the outstanding universal value of the property. Specific long, mid and short term goals for ensuring effective management of the property have been identified and their implementation processes are in various stages. The periodic review and update of management tools including the Master Plan, the Base Map on the GIS platform, the Conservation Plan, the Risk Preparedness Plan, the Public Use plan, and other tools to ensure sustainable development of the local community and also reduce the risk from natural and human made disaster in different areas of the property, is critical to ensure the sustainability of the management system. Long-term goals include internal capacity building and adoption of a new systematic approach where actions are coordinated and participatory. Sustained funding will be essential to ensure an operational system and the allocation of resources for the implementation of projects for the conservation and management of the diverse elements of the property.\\xa0 \\r\\n\\t\\t\\t\\t\\tLinks \\r\\n\\t\\t\\t\\t List of World Heritage in Danger Inscription Year on the List of World Heritage in Danger \\r\\n        The Nomination files produced by the States Parties are published by the World Heritage Centre at its website and/or in working documents in order to ensure transparency, access to information and to facilitate the preparations of comparative analysis by other nominating States Parties.\\r\\n       \\r\\n        The sole responsibility for the content of each Nomination file lies with the State Party concerned. The publication of the Nomination file, including the maps and names, does not imply the expression of any opinion whatsoever of the World Heritage Committee or of the Secretariat of UNESCO concerning the history or legal status of any country, territory, city or area or of its boundaries.\\r\\n       State of Conservation (SOC) by year Login\"}\n"
     ]
    }
   ],
   "source": [
    "import requests\n",
    "from bs4 import BeautifulSoup\n",
    "\n",
    "def extract_text_from_url(url):\n",
    "    try:\n",
    "        response = requests.get(url, timeout=10)\n",
    "        response.raise_for_status()  # Check for HTTP errors\n",
    "        soup = BeautifulSoup(response.text, \"html.parser\")\n",
    "        \n",
    "        # Extract visible text from paragraphs and headings\n",
    "        text = \" \".join([p.get_text() for p in soup.find_all([\"p\", \"h1\", \"h2\", \"h3\", \"h4\", \"h5\", \"h6\"])])\n",
    "        return text\n",
    "    except Exception as e:\n",
    "        print(f\"Failed to fetch {url}: {e}\")\n",
    "        return None\n",
    "\n",
    "# Example: Scrape multiple URLs\n",
    "urls = [\n",
    "    \"https://en.wikipedia.org/wiki/Hampi\",\n",
    "    \"https://whc.unesco.org/en/list/241/#\",\n",
    "    \n",
    "]\n",
    "documents = {url: extract_text_from_url(url) for url in urls}\n",
    "\n",
    "# Remove empty results\n",
    "documents = {url: text for url, text in documents.items() if text}\n",
    "print(documents)\n"
   ]
  },
  {
   "cell_type": "code",
   "execution_count": 6,
   "metadata": {},
   "outputs": [
    {
     "data": {
      "application/vnd.jupyter.widget-view+json": {
       "model_id": "dffa4d00f7974ebeaec02f787e075ff2",
       "version_major": 2,
       "version_minor": 0
      },
      "text/plain": [
       "modules.json:   0%|          | 0.00/349 [00:00<?, ?B/s]"
      ]
     },
     "metadata": {},
     "output_type": "display_data"
    },
    {
     "data": {
      "application/vnd.jupyter.widget-view+json": {
       "model_id": "fb179c24c1814b49affbdd4f59747341",
       "version_major": 2,
       "version_minor": 0
      },
      "text/plain": [
       "config_sentence_transformers.json:   0%|          | 0.00/116 [00:00<?, ?B/s]"
      ]
     },
     "metadata": {},
     "output_type": "display_data"
    },
    {
     "data": {
      "application/vnd.jupyter.widget-view+json": {
       "model_id": "3f7cfdc44f0f41f9ad89f37b93190a6d",
       "version_major": 2,
       "version_minor": 0
      },
      "text/plain": [
       "README.md:   0%|          | 0.00/10.5k [00:00<?, ?B/s]"
      ]
     },
     "metadata": {},
     "output_type": "display_data"
    },
    {
     "data": {
      "application/vnd.jupyter.widget-view+json": {
       "model_id": "0dfab5b036834748a81da8d4e1a9e4af",
       "version_major": 2,
       "version_minor": 0
      },
      "text/plain": [
       "sentence_bert_config.json:   0%|          | 0.00/53.0 [00:00<?, ?B/s]"
      ]
     },
     "metadata": {},
     "output_type": "display_data"
    },
    {
     "data": {
      "application/vnd.jupyter.widget-view+json": {
       "model_id": "75d3bff4239e472abfc428c78bd08121",
       "version_major": 2,
       "version_minor": 0
      },
      "text/plain": [
       "config.json:   0%|          | 0.00/612 [00:00<?, ?B/s]"
      ]
     },
     "metadata": {},
     "output_type": "display_data"
    },
    {
     "data": {
      "application/vnd.jupyter.widget-view+json": {
       "model_id": "e1c9f52598ab49e1adf78da79953292b",
       "version_major": 2,
       "version_minor": 0
      },
      "text/plain": [
       "model.safetensors:   0%|          | 0.00/90.9M [00:00<?, ?B/s]"
      ]
     },
     "metadata": {},
     "output_type": "display_data"
    },
    {
     "data": {
      "application/vnd.jupyter.widget-view+json": {
       "model_id": "357aada92ef945269ad6111420759ee9",
       "version_major": 2,
       "version_minor": 0
      },
      "text/plain": [
       "tokenizer_config.json:   0%|          | 0.00/350 [00:00<?, ?B/s]"
      ]
     },
     "metadata": {},
     "output_type": "display_data"
    },
    {
     "data": {
      "application/vnd.jupyter.widget-view+json": {
       "model_id": "3b77c82844e74c17884800fc84283065",
       "version_major": 2,
       "version_minor": 0
      },
      "text/plain": [
       "vocab.txt:   0%|          | 0.00/232k [00:00<?, ?B/s]"
      ]
     },
     "metadata": {},
     "output_type": "display_data"
    },
    {
     "data": {
      "application/vnd.jupyter.widget-view+json": {
       "model_id": "71b47ade43ce4419bc0c51be270f5313",
       "version_major": 2,
       "version_minor": 0
      },
      "text/plain": [
       "tokenizer.json:   0%|          | 0.00/466k [00:00<?, ?B/s]"
      ]
     },
     "metadata": {},
     "output_type": "display_data"
    },
    {
     "data": {
      "application/vnd.jupyter.widget-view+json": {
       "model_id": "79baad052be549b8a25d96f200ec12b7",
       "version_major": 2,
       "version_minor": 0
      },
      "text/plain": [
       "special_tokens_map.json:   0%|          | 0.00/112 [00:00<?, ?B/s]"
      ]
     },
     "metadata": {},
     "output_type": "display_data"
    },
    {
     "data": {
      "application/vnd.jupyter.widget-view+json": {
       "model_id": "fb0df4ba0a6f4d11bbf3b792817aff44",
       "version_major": 2,
       "version_minor": 0
      },
      "text/plain": [
       "config.json:   0%|          | 0.00/190 [00:00<?, ?B/s]"
      ]
     },
     "metadata": {},
     "output_type": "display_data"
    },
    {
     "name": "stdout",
     "output_type": "stream",
     "text": [
      "Embeddings shape: (2, 384)\n"
     ]
    }
   ],
   "source": [
    "from sentence_transformers import SentenceTransformer\n",
    "import numpy as np\n",
    "import torch\n",
    "\n",
    "# Load a pre-trained embedding model and move it to GPU\n",
    "model = SentenceTransformer(\"all-MiniLM-L6-v2\", device=\"cuda\" if torch.cuda.is_available() else \"cpu\")\n",
    "\n",
    "# Convert text into embeddings (ensuring computation is on GPU)\n",
    "embeddings = np.array([model.encode(text, device=model.device) for text in documents.values()])\n",
    "\n",
    "print(\"Embeddings shape:\", embeddings.shape)  \n"
   ]
  },
  {
   "cell_type": "code",
   "execution_count": 7,
   "metadata": {},
   "outputs": [
    {
     "name": "stdout",
     "output_type": "stream",
     "text": [
      "Stored in ChromaDB!\n"
     ]
    }
   ],
   "source": [
    "import chromadb\n",
    "\n",
    "# Initialize ChromaDB client\n",
    "chroma_client = chromadb.PersistentClient(path=\"./chroma_db\")\n",
    "\n",
    "# Create a collection\n",
    "collection = chroma_client.get_or_create_collection(name=\"text_embeddings\")\n",
    "\n",
    "# Add data to the database\n",
    "for i, text in enumerate(documents):\n",
    "    collection.add(\n",
    "        ids=[str(i)],  # Unique ID\n",
    "        documents=[text],  # Original text\n",
    "        embeddings=[embeddings[i].tolist()]  # Store embeddings\n",
    "    )\n",
    "\n",
    "print(\"Stored in ChromaDB!\")\n"
   ]
  },
  {
   "cell_type": "code",
   "execution_count": 13,
   "metadata": {},
   "outputs": [
    {
     "name": "stdout",
     "output_type": "stream",
     "text": [
      "Your query is not relevant to Hampi cultural sites.\n"
     ]
    }
   ],
   "source": [
    "from langchain.vectorstores import Chroma\n",
    "from langchain.embeddings import HuggingFaceEmbeddings\n",
    "from langchain_groq import ChatGroq\n",
    "from langchain.chains import RetrievalQA\n",
    "\n",
    "# Use Hugging Face embeddings instead of OpenAI\n",
    "embedding_model = HuggingFaceEmbeddings(model_name=\"sentence-transformers/all-MiniLM-L6-v2\")\n",
    "\n",
    "# Load stored vectors\n",
    "vectorstore = Chroma(persist_directory=\"./chroma_db\", embedding_function=embedding_model)\n",
    "\n",
    "# Use Groq API key\n",
    "groq_api_key = \"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\"\n",
    "\n",
    "# Define Retrieval-Augmented Generation (RAG) pipeline using Groq\n",
    "qa = RetrievalQA.from_chain_type(\n",
    "    llm=ChatGroq(model=\"llama3-8b-8192\", groq_api_key=groq_api_key),  # Change model as needed\n",
    "    retriever=vectorstore.as_retriever()\n",
    ")\n",
    "\n",
    "def is_relevant_to_hampi(prompt):\n",
    "    keywords = [\"Hampi\", \"monument\", \"Vijayanagara\", \"temple\"]\n",
    "    return any(keyword.lower() in prompt.lower() for keyword in keywords)\n",
    "\n",
    "# # Query the database\n",
    "prompt = input(\"Enter the prompt: \")\n",
    "\n",
    "if is_relevant_to_hampi(prompt):\n",
    "    result = qa.run(prompt)\n",
    "    print(result)\n",
    "else:\n",
    "    print(\"Your query is not relevant to Hampi cultural sites.\")"
   ]
  }
 ],
 "metadata": {
  "kernelspec": {
   "display_name": "Python 3",
   "language": "python",
   "name": "python3"
  },
  "language_info": {
   "codemirror_mode": {
    "name": "ipython",
    "version": 3
   },
   "file_extension": ".py",
   "mimetype": "text/x-python",
   "name": "python",
   "nbconvert_exporter": "python",
   "pygments_lexer": "ipython3",
   "version": "3.11.5"
  }
 },
 "nbformat": 4,
 "nbformat_minor": 2
}
