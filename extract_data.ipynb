{
 "cells": [
  {
   "cell_type": "code",
   "execution_count": null,
   "metadata": {},
   "outputs": [
    {
     "name": "stdout",
     "output_type": "stream",
     "text": [
      "c:\\Users\\sameer\\anaconda3\\envs\\torch312\\python.exe\n"
     ]
    }
   ],
   "source": [
    "import sys\n",
    "print(sys.executable)\n"
   ]
  },
  {
   "cell_type": "code",
   "execution_count": 1,
   "metadata": {},
   "outputs": [
    {
     "name": "stdout",
     "output_type": "stream",
     "text": [
      "2.5.1+cu121\n",
      "True\n",
      "NVIDIA GeForce RTX 4060 Laptop GPU\n"
     ]
    }
   ],
   "source": [
    "import torch\n",
    "print(torch.__version__)  # coCheck PyTorch version\n",
    "print(torch.cuda.is_available())  # Should return True\n",
    "print(torch.cuda.get_device_name(0))  # Should print GPU name\n",
    "\n"
   ]
  },
  {
   "cell_type": "code",
   "execution_count": 2,
   "metadata": {},
   "outputs": [],
   "source": [
    "import requests\n",
    "from bs4 import BeautifulSoup\n",
    "\n",
    "def extract_text_from_url(url):\n",
    "    try:\n",
    "        response = requests.get(url, timeout=10)\n",
    "        response.raise_for_status()  # Check for HTTP errors\n",
    "        soup = BeautifulSoup(response.text, \"html.parser\")\n",
    "        \n",
    "        # Extract visible text from paragraphs and headings\n",
    "        text = \" \".join([p.get_text() for p in soup.find_all([\"p\", \"h1\", \"h2\", \"h3\", \"h4\", \"h5\", \"h6\"])])\n",
    "        return text\n",
    "    except Exception as e:\n",
    "        print(f\"Failed to fetch {url}: {e}\")\n",
    "        return None\n",
    "\n",
    "# Example: Scrape multiple URLs\n",
    "urls = [\n",
    "    \"https://en.wikipedia.org/wiki/Hampi\",\n",
    "    \"https://whc.unesco.org/en/list/241/#\",\n",
    "    \"https://openthemagazine.com/essay/the-untold-history-of-hampi/\",\n",
    "    #\"https://www.opindia.com/2018/02/the-ruins-of-hampi-a-song-of-hope-and-a-story-of-treachery-then-and-now/\",\n",
    "    \"https://en.wikipedia.org/wiki/Virupaksha_Temple,_Hampi\",\n",
    "    \"https://www.thrillophilia.com/questions/why-is-hampi-called-the-city-of-ruins\",\n",
    "    \"https://unacademy.com/content/bank-exam/study-material/general-awareness/group-of-monuments-at-hampi/#:~:text=Hampi%2C%20also%20known%20as%20the,like%20the%20lotus%20and%20corbels.\"\n",
    "    \n",
    "]\n",
    "documents = {url: extract_text_from_url(url) for url in urls}\n",
    "\n",
    "# Remove empty results\n",
    "documents = {url: text for url, text in documents.items() if text}\n",
    "\n"
   ]
  },
  {
   "cell_type": "code",
   "execution_count": 9,
   "metadata": {},
   "outputs": [
    {
     "name": "stdout",
     "output_type": "stream",
     "text": [
      "Found existing installation: huggingface-hub 0.29.3\n",
      "Uninstalling huggingface-hub-0.29.3:\n",
      "  Successfully uninstalled huggingface-hub-0.29.3\n",
      "Collecting huggingface_hub==0.10.1\n",
      "  Using cached huggingface_hub-0.10.1-py3-none-any.whl.metadata (6.1 kB)\n",
      "Requirement already satisfied: filelock in c:\\users\\sameer\\appdata\\local\\programs\\python\\python312\\lib\\site-packages (from huggingface_hub==0.10.1) (3.13.1)\n",
      "Requirement already satisfied: requests in c:\\users\\sameer\\appdata\\local\\programs\\python\\python312\\lib\\site-packages (from huggingface_hub==0.10.1) (2.32.3)\n",
      "Requirement already satisfied: tqdm in c:\\users\\sameer\\appdata\\local\\programs\\python\\python312\\lib\\site-packages (from huggingface_hub==0.10.1) (4.67.1)\n",
      "Requirement already satisfied: pyyaml>=5.1 in c:\\users\\sameer\\appdata\\local\\programs\\python\\python312\\lib\\site-packages (from huggingface_hub==0.10.1) (6.0.2)\n",
      "Requirement already satisfied: typing-extensions>=3.7.4.3 in c:\\users\\sameer\\appdata\\local\\programs\\python\\python312\\lib\\site-packages (from huggingface_hub==0.10.1) (4.12.2)\n",
      "Requirement already satisfied: packaging>=20.9 in c:\\users\\sameer\\appdata\\roaming\\python\\python312\\site-packages (from huggingface_hub==0.10.1) (24.2)\n",
      "Requirement already satisfied: charset-normalizer<4,>=2 in c:\\users\\sameer\\appdata\\local\\programs\\python\\python312\\lib\\site-packages (from requests->huggingface_hub==0.10.1) (3.4.1)\n",
      "Requirement already satisfied: idna<4,>=2.5 in c:\\users\\sameer\\appdata\\local\\programs\\python\\python312\\lib\\site-packages (from requests->huggingface_hub==0.10.1) (3.10)\n",
      "Requirement already satisfied: urllib3<3,>=1.21.1 in c:\\users\\sameer\\appdata\\local\\programs\\python\\python312\\lib\\site-packages (from requests->huggingface_hub==0.10.1) (2.3.0)\n",
      "Requirement already satisfied: certifi>=2017.4.17 in c:\\users\\sameer\\appdata\\local\\programs\\python\\python312\\lib\\site-packages (from requests->huggingface_hub==0.10.1) (2025.1.31)\n",
      "Requirement already satisfied: colorama in c:\\users\\sameer\\appdata\\roaming\\python\\python312\\site-packages (from tqdm->huggingface_hub==0.10.1) (0.4.6)\n",
      "Using cached huggingface_hub-0.10.1-py3-none-any.whl (163 kB)\n",
      "Installing collected packages: huggingface_hub\n",
      "Successfully installed huggingface_hub-0.10.1\n"
     ]
    },
    {
     "name": "stderr",
     "output_type": "stream",
     "text": [
      "ERROR: pip's dependency resolver does not currently take into account all the packages that are installed. This behaviour is the source of the following dependency conflicts.\n",
      "sentence-transformers 3.4.1 requires huggingface-hub>=0.20.0, but you have huggingface-hub 0.10.1 which is incompatible.\n",
      "tokenizers 0.21.1 requires huggingface-hub<1.0,>=0.16.4, but you have huggingface-hub 0.10.1 which is incompatible.\n",
      "transformers 4.49.0 requires huggingface-hub<1.0,>=0.26.0, but you have huggingface-hub 0.10.1 which is incompatible.\n"
     ]
    },
    {
     "name": "stdout",
     "output_type": "stream",
     "text": [
      "Requirement already satisfied: sentence-transformers in c:\\users\\sameer\\appdata\\local\\programs\\python\\python312\\lib\\site-packages (3.4.1)\n",
      "Requirement already satisfied: transformers<5.0.0,>=4.41.0 in c:\\users\\sameer\\appdata\\local\\programs\\python\\python312\\lib\\site-packages (from sentence-transformers) (4.49.0)\n",
      "Requirement already satisfied: tqdm in c:\\users\\sameer\\appdata\\local\\programs\\python\\python312\\lib\\site-packages (from sentence-transformers) (4.67.1)\n",
      "Requirement already satisfied: torch>=1.11.0 in c:\\users\\sameer\\appdata\\local\\programs\\python\\python312\\lib\\site-packages (from sentence-transformers) (2.5.1+cu121)\n",
      "Requirement already satisfied: scikit-learn in c:\\users\\sameer\\appdata\\local\\programs\\python\\python312\\lib\\site-packages (from sentence-transformers) (1.6.1)\n",
      "Requirement already satisfied: scipy in c:\\users\\sameer\\appdata\\local\\programs\\python\\python312\\lib\\site-packages (from sentence-transformers) (1.15.2)\n",
      "Collecting huggingface-hub>=0.20.0 (from sentence-transformers)\n",
      "  Using cached huggingface_hub-0.29.3-py3-none-any.whl.metadata (13 kB)\n",
      "Requirement already satisfied: Pillow in c:\\users\\sameer\\appdata\\local\\programs\\python\\python312\\lib\\site-packages (from sentence-transformers) (11.0.0)\n",
      "Requirement already satisfied: filelock in c:\\users\\sameer\\appdata\\local\\programs\\python\\python312\\lib\\site-packages (from huggingface-hub>=0.20.0->sentence-transformers) (3.13.1)\n",
      "Requirement already satisfied: fsspec>=2023.5.0 in c:\\users\\sameer\\appdata\\local\\programs\\python\\python312\\lib\\site-packages (from huggingface-hub>=0.20.0->sentence-transformers) (2024.6.1)\n",
      "Requirement already satisfied: packaging>=20.9 in c:\\users\\sameer\\appdata\\roaming\\python\\python312\\site-packages (from huggingface-hub>=0.20.0->sentence-transformers) (24.2)\n",
      "Requirement already satisfied: pyyaml>=5.1 in c:\\users\\sameer\\appdata\\local\\programs\\python\\python312\\lib\\site-packages (from huggingface-hub>=0.20.0->sentence-transformers) (6.0.2)\n",
      "Requirement already satisfied: requests in c:\\users\\sameer\\appdata\\local\\programs\\python\\python312\\lib\\site-packages (from huggingface-hub>=0.20.0->sentence-transformers) (2.32.3)\n",
      "Requirement already satisfied: typing-extensions>=3.7.4.3 in c:\\users\\sameer\\appdata\\local\\programs\\python\\python312\\lib\\site-packages (from huggingface-hub>=0.20.0->sentence-transformers) (4.12.2)\n",
      "Requirement already satisfied: networkx in c:\\users\\sameer\\appdata\\local\\programs\\python\\python312\\lib\\site-packages (from torch>=1.11.0->sentence-transformers) (3.3)\n",
      "Requirement already satisfied: jinja2 in c:\\users\\sameer\\appdata\\local\\programs\\python\\python312\\lib\\site-packages (from torch>=1.11.0->sentence-transformers) (3.1.6)\n",
      "Requirement already satisfied: setuptools in c:\\users\\sameer\\appdata\\local\\programs\\python\\python312\\lib\\site-packages (from torch>=1.11.0->sentence-transformers) (76.0.0)\n",
      "Requirement already satisfied: sympy==1.13.1 in c:\\users\\sameer\\appdata\\local\\programs\\python\\python312\\lib\\site-packages (from torch>=1.11.0->sentence-transformers) (1.13.1)\n",
      "Requirement already satisfied: mpmath<1.4,>=1.1.0 in c:\\users\\sameer\\appdata\\local\\programs\\python\\python312\\lib\\site-packages (from sympy==1.13.1->torch>=1.11.0->sentence-transformers) (1.3.0)\n",
      "Requirement already satisfied: colorama in c:\\users\\sameer\\appdata\\roaming\\python\\python312\\site-packages (from tqdm->sentence-transformers) (0.4.6)\n",
      "Requirement already satisfied: numpy>=1.17 in c:\\users\\sameer\\appdata\\local\\programs\\python\\python312\\lib\\site-packages (from transformers<5.0.0,>=4.41.0->sentence-transformers) (2.1.2)\n",
      "Requirement already satisfied: regex!=2019.12.17 in c:\\users\\sameer\\appdata\\local\\programs\\python\\python312\\lib\\site-packages (from transformers<5.0.0,>=4.41.0->sentence-transformers) (2024.11.6)\n",
      "Requirement already satisfied: tokenizers<0.22,>=0.21 in c:\\users\\sameer\\appdata\\local\\programs\\python\\python312\\lib\\site-packages (from transformers<5.0.0,>=4.41.0->sentence-transformers) (0.21.1)\n",
      "Requirement already satisfied: safetensors>=0.4.1 in c:\\users\\sameer\\appdata\\local\\programs\\python\\python312\\lib\\site-packages (from transformers<5.0.0,>=4.41.0->sentence-transformers) (0.5.3)\n",
      "Requirement already satisfied: joblib>=1.2.0 in c:\\users\\sameer\\appdata\\local\\programs\\python\\python312\\lib\\site-packages (from scikit-learn->sentence-transformers) (1.4.2)\n",
      "Requirement already satisfied: threadpoolctl>=3.1.0 in c:\\users\\sameer\\appdata\\local\\programs\\python\\python312\\lib\\site-packages (from scikit-learn->sentence-transformers) (3.6.0)\n",
      "Requirement already satisfied: MarkupSafe>=2.0 in c:\\users\\sameer\\appdata\\local\\programs\\python\\python312\\lib\\site-packages (from jinja2->torch>=1.11.0->sentence-transformers) (3.0.2)\n",
      "Requirement already satisfied: charset-normalizer<4,>=2 in c:\\users\\sameer\\appdata\\local\\programs\\python\\python312\\lib\\site-packages (from requests->huggingface-hub>=0.20.0->sentence-transformers) (3.4.1)\n",
      "Requirement already satisfied: idna<4,>=2.5 in c:\\users\\sameer\\appdata\\local\\programs\\python\\python312\\lib\\site-packages (from requests->huggingface-hub>=0.20.0->sentence-transformers) (3.10)\n",
      "Requirement already satisfied: urllib3<3,>=1.21.1 in c:\\users\\sameer\\appdata\\local\\programs\\python\\python312\\lib\\site-packages (from requests->huggingface-hub>=0.20.0->sentence-transformers) (2.3.0)\n",
      "Requirement already satisfied: certifi>=2017.4.17 in c:\\users\\sameer\\appdata\\local\\programs\\python\\python312\\lib\\site-packages (from requests->huggingface-hub>=0.20.0->sentence-transformers) (2025.1.31)\n",
      "Using cached huggingface_hub-0.29.3-py3-none-any.whl (468 kB)\n",
      "Installing collected packages: huggingface-hub\n",
      "  Attempting uninstall: huggingface-hub\n",
      "    Found existing installation: huggingface-hub 0.10.1\n",
      "    Uninstalling huggingface-hub-0.10.1:\n",
      "      Successfully uninstalled huggingface-hub-0.10.1\n",
      "Successfully installed huggingface-hub-0.29.3\n",
      "Model loaded successfully!\n",
      "Embeddings shape: (6, 384)\n"
     ]
    }
   ],
   "source": [
    "!pip uninstall -y huggingface-hub\n",
    "!pip install huggingface_hub==0.10.1\n",
    "!pip install --upgrade sentence-transformers\n",
    "from sentence_transformers import SentenceTransformer\n",
    "import numpy as np\n",
    "import torch\n",
    "\n",
    "# Load a pre-trained embedding model and move it to GPU\n",
    "model = SentenceTransformer(\"all-MiniLM-L6-v2\", device=\"cuda\" if torch.cuda.is_available() else \"cpu\")\n",
    "print(\"Model loaded successfully!\")\n",
    "\n",
    "# Example embeddings (ensure `documents` is defined in your code)\n",
    "embeddings = np.array([model.encode(text, device=model.device) for text in documents.values()])\n",
    "print(\"Embeddings shape:\", embeddings.shape)"
   ]
  },
  {
   "cell_type": "code",
   "execution_count": 10,
   "metadata": {},
   "outputs": [
    {
     "name": "stderr",
     "output_type": "stream",
     "text": [
      "Add of existing embedding ID: 0\n",
      "Insert of existing embedding ID: 0\n",
      "Add of existing embedding ID: 1\n",
      "Insert of existing embedding ID: 1\n"
     ]
    },
    {
     "name": "stdout",
     "output_type": "stream",
     "text": [
      "Stored in ChromaDB!\n"
     ]
    }
   ],
   "source": [
    "import chromadb\n",
    "\n",
    "# Initialize ChromaDB client\n",
    "chroma_client = chromadb.PersistentClient(path=\"./chroma_db\")\n",
    "\n",
    "# Create a collection\n",
    "collection = chroma_client.get_or_create_collection(name=\"text_embeddings\")\n",
    "\n",
    "# Add data to the database\n",
    "for i, (url, text) in enumerate(documents.items()):\n",
    "    collection.add(\n",
    "        ids=[str(i)],  \n",
    "        documents=[text], \n",
    "        embeddings=[embeddings[i].tolist()]\n",
    "    )\n",
    "\n",
    "\n",
    "\n",
    "\n",
    "print(\"Stored in ChromaDB!\")\n"
   ]
  },
  {
   "cell_type": "code",
   "execution_count": null,
   "metadata": {},
   "outputs": [
    {
     "name": "stdout",
     "output_type": "stream",
     "text": [
      "The Stone Chariot in Hampi is a magnificent ancient structure located in the ancient city of Vijayanagara, which is now a UNESCO World Heritage site in Karnataka, India. The chariot is a unique monument that stands out for its intricate carvings and sculptures.\n",
      "\n",
      "The Stone Chariot is believed to have been built during the reign of King Krishnadevaraya (1509-1529 CE) of the Vijayanagara Empire. It is a freestanding structure, about 7 meters (23 feet) tall, with four wheels and a platform. The chariot is made of a single block of granite, weighing around 80 tons.\n",
      "\n",
      "The chariot is decorated with intricate carvings and sculptures, showcasing the artistic skills of the ancient sculptors. The sculptures depict various mythological scenes, including gods and goddesses, animals, and mythological creatures. Some of the notable sculptures include:\n",
      "\n",
      "* The figure of Lord Shiva, standing on the platform of the chariot, surrounded by his consorts, Parvati and Uma.\n",
      "* The depiction of the god of war, Lord Kartikeya, riding a peacock.\n",
      "* The image of the goddess Kali, with her fierce features and demonic attendants.\n",
      "* Various animals, such as lions, elephants, and horses, are carved on the chariot's walls and wheels.\n",
      "\n",
      "The sculptures on the Stone Chariot are characterized by their intricate details, precision, and beauty. They are a testament to the artistic and cultural achievements of the Vijayanagara Empire, which was a prominent power in southern India during the 14th to 16th centuries.\n",
      "\n",
      "The Stone Chariot has been damaged over the centuries due to natural erosion, human neglect, and historical events. However, it remains one of the most iconic and popular attractions in Hampi, attracting tourists and historians alike.\n"
     ]
    }
   ],
   "source": [
    "from langchain.vectorstores import Chroma\n",
    "from langchain.embeddings import HuggingFaceEmbeddings\n",
    "from langchain_groq import ChatGroq\n",
    "from langchain.chains import RetrievalQA\n",
    "\n",
    "# Use Hugging Face embeddings instead of OpenAI\n",
    "embedding_model = HuggingFaceEmbeddings(model_name=\"sentence-transformers/all-MiniLM-L6-v2\")\n",
    "\n",
    "# Load stored vectors\n",
    "vectorstore = Chroma(persist_directory=\"./chroma_db\", embedding_function=embedding_model)\n",
    "\n",
    "# Use Groq API key\n",
    "groq_api_key = \"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\"\n",
    "\n",
    "# Define Retrieval-Augmented Generation (RAG) pipeline using Groq\n",
    "qa = RetrievalQA.from_chain_type(\n",
    "    llm=ChatGroq(model=\"llama3-8b-8192\", groq_api_key=groq_api_key),  # Change model as needed\n",
    "    retriever=vectorstore.as_retriever()\n",
    ")\n",
    "\n",
    "def is_relevant_to_hampi(prompt):\n",
    "    keywords = [\"Hampi\", \"monument\", \"Vijayanagara\", \"temple\"]\n",
    "    return any(keyword.lower() in prompt.lower() for keyword in keywords)\n",
    "\n",
    "# # Query the database\n",
    "prompt = input(\"Enter the prompt: \")\n",
    "\n",
    "if is_relevant_to_hampi(prompt):\n",
    "    result = qa.run(prompt)\n",
    "    print(result)\n",
    "else:\n",
    "    print(\"Your query is not relevant to Hampi cultural sites.\")"
   ]
  },
  {
   "cell_type": "code",
   "execution_count": null,
   "metadata": {},
   "outputs": [],
   "source": []
  }
 ],
 "metadata": {
  "kernelspec": {
   "display_name": "Python 3",
   "language": "python",
   "name": "python3"
  },
  "language_info": {
   "codemirror_mode": {
    "name": "ipython",
    "version": 3
   },
   "file_extension": ".py",
   "mimetype": "text/x-python",
   "name": "python",
   "nbconvert_exporter": "python",
   "pygments_lexer": "ipython3",
   "version": "3.12.0"
  }
 },
 "nbformat": 4,
 "nbformat_minor": 2
}
